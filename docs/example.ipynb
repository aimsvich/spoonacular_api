{
 "cells": [
  {
   "cell_type": "markdown",
   "metadata": {},
   "source": [
    "# Example usage\n",
    "\n",
    "To use `spoonacular_api` in a project:"
   ]
  },
  {
   "cell_type": "code",
   "execution_count": 8,
   "metadata": {},
   "outputs": [
    {
     "ename": "ModuleNotFoundError",
     "evalue": "No module named 'spoonacular_api'",
     "output_type": "error",
     "traceback": [
      "\u001b[0;31m---------------------------------------------------------------------------\u001b[0m",
      "\u001b[0;31mModuleNotFoundError\u001b[0m                       Traceback (most recent call last)",
      "Cell \u001b[0;32mIn [8], line 1\u001b[0m\n\u001b[0;32m----> 1\u001b[0m \u001b[38;5;28;01mfrom\u001b[39;00m \u001b[38;5;21;01mspoonacular_api\u001b[39;00m\u001b[38;5;21;01m.\u001b[39;00m\u001b[38;5;21;01msrc\u001b[39;00m\u001b[38;5;21;01m.\u001b[39;00m\u001b[38;5;21;01mspoonacular_api\u001b[39;00m \u001b[38;5;28;01mimport\u001b[39;00m GroceryList\n\u001b[1;32m      2\u001b[0m \u001b[38;5;28;01mfrom\u001b[39;00m \u001b[38;5;21;01mdotenv\u001b[39;00m \u001b[38;5;28;01mimport\u001b[39;00m load_dotenv\n\u001b[1;32m      3\u001b[0m \u001b[38;5;28;01mimport\u001b[39;00m \u001b[38;5;21;01mos\u001b[39;00m\n",
      "\u001b[0;31mModuleNotFoundError\u001b[0m: No module named 'spoonacular_api'"
     ]
    }
   ],
   "source": [
    "from spoonacular_api.src.spoonacular_api import GroceryList\n",
    "from dotenv import load_dotenv\n",
    "import os\n",
    "API_Key = os.getenv('API_Key')"
   ]
  },
  {
   "cell_type": "code",
   "execution_count": null,
   "metadata": {},
   "outputs": [],
   "source": [
    "import spoonacular_api\n",
    "\n",
    "# Initialize the class\n",
    "recipe = GroceryList('cooluser', 'John', 'Doe', 'thecoolestuser@gmail.com', 'Your API_Key')\n",
    "\n",
    "# Search for recipes\n",
    ">>>recipe.searchRecipe('soup', 'chicken', 'carrot')\n",
    "\tRecipe\t\t\t\t\t\tServings\t  Price Per Serving\t  Recipe ID\n",
    "0\tRed Lentil Soup with Chicken and Turnips\t8\t           2.77\t            \t715415\n",
    "1\tChipotle Black Bean Soup with Avocado Cream\t8\t           1.43\t            \t638741\n",
    "2\tChicken Mulligatawny Soup\t\t\t6\t           2.48\t            \t638199\n",
    "3\tClassic Matzo Ball Soup\t\t\t\t6\t           2.07\t            \t639616\n",
    "4\tLight Greek Lemon Chicken Orzo Soup\t\t8\t           2.37\t            \t1098350\n",
    "\n",
    "# Find the ingredients\n",
    ">>>recipe.getIngredients(638741)\n",
    "\tIngredient\t\t\t\t\tAmount\t\tUnit\n",
    "0\tavocado\t                         \t\t1.000\t    \tsmall\n",
    "1\tcanned black beans\t           \t  \t1.276\t    \tkgs\n",
    "2\tdiced carrots\t                  \t\t256.000\t    \tg\n",
    "3\tchicken broth\t                   \t\t940.000\t    \tml\n",
    "4\tcanned chipotle peppers in adobo\t\t198.447\t    \tg\n",
    "5\tfresh cilantro leaves\t         \t\t2.000\t    \tTbsps\n",
    "6\tlemon juice\t                   \t\t1.000\t    \tTbsp\n",
    "7\tolive oil\t                       \t\t2.000\t    \tTbsps\n",
    "8\tdiced onions\t                    \t\t320.000\t    \tg\n",
    "9\tsour cream\t                        \t57.500\t    \tml\n",
    "\n",
    "# Add the ingredients individually\n",
    ">>>recipe.addIngredient('chicken broth', 940, 'ml')\n",
    "Shopping list\n",
    "\tItem\t\t\tAmount      Unit        Cost (USD)      \tItem ID\n",
    "0\tchicken broth\t   \t940.0\t    ml\t        3.0\t        \t1400323\n",
    "1\tTotal cost \t\t\t\t\t3.0\t\n",
    "        \n",
    ">>>recipe.addIngredient('diced carrots', 256, 'g')\n",
    "Shopping list\n",
    "\tItem\t\t\tAmount      Unit        Cost (USD)      \tItem ID\n",
    "0\tchicken broth\t   \t940.0\t    ml\t        3.0\t        \t1400323\n",
    "1\tdiced carrots\t\t256.0\t    g\t        0.45\t      \t\t1400325\n",
    "2\tTotal cost\t\t\t        \t3.45\n",
    "       \n",
    "# Add all the ingredients from a recipe with the recipe ID\n",
    ">>>recipe.addAllIngredients(638741)\n",
    "Shopping list\n",
    "\tItem\t                        \tAmount          Unit        Cost (USD)\t\tItem ID\n",
    "0\tcanned black beans\t\t\t1.276\t        kg\t        2.28\t\t1400329\n",
    "1\tchicken broth\t                   \t940.0\t        ml\t        3.00\t\t1400333\n",
    "2\tcanned chipotle peppers in adobo\t198.447\t        g\t        1.98\t\t1400335\n",
    "3\tsour cream\t                  \t57.5\t       \tml\t        0.38\t\t1400345\n",
    "4\tolive oil\t\t\t\t2.0\t\tTbsps\t        0.33\t\t1400341\n",
    "5\tavocado\t\t\t\t\t1.0\t\tsmall\t        1.50\t\t1400327\n",
    "6\tdiced carrots\t                   \t256.0\t        g\t        0.45\t\t1400331\n",
    "7\tfresh cilantro leaves\t            \t2.0\t   \tTbsps\t        0.03\t\t1400337\n",
    "8\tlemon juice\t                    \t1.0\t       \tTbsp\t        0.10\t\t1400339\n",
    "9\tdiced onions\t                    \t320.0\t        g\t        0.70\t\t1400343\n",
    "10\tTotal cost\t\t\t          \t\t\t\t10.76\n",
    "\n",
    "# Delete ingredients from the shopping listwith the recipe ID\n",
    ">>>recipe.deleteItem(1400329, 1400333, 1400335)\n",
    "Shopping list\n",
    "\tItem\t                        \tAmount          Unit        Cost (USD)\t\tItem ID\n",
    "0\tsour cream\t                  \t57.5\t       \tml\t        0.38\t\t1400345\n",
    "1\tolive oil\t\t\t\t2.0\t\tTbsps\t        0.33\t\t1400341\n",
    "2\tavocado\t\t\t\t\t1.0\t\tsmall\t        1.50\t\t1400327\n",
    "3\tdiced carrots\t                   \t256.0\t        g\t        0.45\t\t1400331\n",
    "4\tfresh cilantro leaves\t            \t2.0\t   \tTbsps\t        0.03\t\t1400337\n",
    "5\tlemon juice\t                    \t1.0\t       \tTbsp\t        0.10\t\t1400339\n",
    "6\tdiced onions\t                    \t320.0\t        g\t        0.70\t\t1400343\n",
    "7\tTotal cost\t\t\t          \t\t\t\t3.43\n",
    "        \n",
    "# Get the shopping list\n",
    ">>>recipe.getShoppingList()\n",
    "Shopping list\n",
    "\tItem\t                        \tAmount          Unit        Cost (USD)\t\tItem ID\n",
    "0\tcanned black beans\t\t\t1.276\t        kg\t        2.28\t\t1400329\n",
    "1\tchicken broth\t                   \t940.0\t        ml\t        3.00\t\t1400333\n",
    "2\tcanned chipotle peppers in adobo\t198.447\t        g\t        1.98\t\t1400335\n",
    "3\tsour cream\t                  \t57.5\t       \tml\t        0.38\t\t1400345\n",
    "4\tolive oil\t\t\t\t2.0\t\tTbsps\t        0.33\t\t1400341\n",
    "5\tavocado\t\t\t\t\t1.0\t\tsmall\t        1.50\t\t1400327\n",
    "6\tdiced carrots\t                   \t256.0\t        g\t        0.45\t\t1400331\n",
    "7\tfresh cilantro leaves\t            \t2.0\t   \tTbsps\t        0.03\t\t1400337\n",
    "8\tlemon juice\t                    \t1.0\t       \tTbsp\t        0.10\t\t1400339\n",
    "9\tdiced onions\t                    \t320.0\t        g\t        0.70\t\t1400343\n",
    "10\tTotal cost\t\t\t          \t\t\t\t10.76"
   ]
  }
 ],
 "metadata": {
  "kernelspec": {
   "display_name": "Python 3 (ipykernel)",
   "language": "python",
   "name": "python3"
  },
  "language_info": {
   "codemirror_mode": {
    "name": "ipython",
    "version": 3
   },
   "file_extension": ".py",
   "mimetype": "text/x-python",
   "name": "python",
   "nbconvert_exporter": "python",
   "pygments_lexer": "ipython3",
   "version": "3.10.7"
  }
 },
 "nbformat": 4,
 "nbformat_minor": 4
}
